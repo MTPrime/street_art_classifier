{
 "cells": [
  {
   "cell_type": "code",
   "execution_count": 9,
   "metadata": {},
   "outputs": [],
   "source": [
    "from tensorflow import keras\n",
    "from tensorflow.keras.models import Sequential\n",
    "from tensorflow.keras.layers import Dense, Dropout, Activation, Flatten\n",
    "from tensorflow.keras.layers import Conv2D, MaxPooling2D\n",
    "from tensorflow.keras.utils import to_categorical\n",
    "from tensorflow.keras.preprocessing.image import ImageDataGenerator\n",
    "from tensorflow.keras.models import load_model\n",
    "import matplotlib.pyplot as plt\n",
    "from sklearn.metrics import confusion_matrix\n",
    "import numpy as np\n",
    "from tensorflow.keras import metrics\n",
    "from skimage import color, transform, restoration, io, feature, filters\n",
    "import os,sys\n",
    "sys.path.append(os.path.abspath('..'))\n",
    "from src.street_art_cnn import create_data_generators"
   ]
  },
  {
   "cell_type": "code",
   "execution_count": 5,
   "metadata": {},
   "outputs": [],
   "source": [
    "def plot_confusion_matrix(generator, y_correct):\n",
    "    cm = confusion_matrix(generator.classes, y_correct)\n",
    "    return cm"
   ]
  },
  {
   "cell_type": "code",
   "execution_count": 6,
   "metadata": {},
   "outputs": [],
   "source": [
    "def calculate_y_correct(model, generator):\n",
    "    \n",
    "    #Getting y and yhat. Reseting generator to ensure consistent indexes\n",
    "    generator.reset()\n",
    "    y = generator.labels\n",
    "    generator.reset()\n",
    "    yhat = model.predict_generator(generator)\n",
    "\n",
    "    #Changes yhat to class labels\n",
    "    yhat_clean = np.zeros_like(yhat)\n",
    "    yhat_clean[np.arange(len(yhat)), yhat.argmax(1)] = 1\n",
    "\n",
    "    y_correct = []\n",
    "    y_incorrect = []\n",
    "    for i, v in enumerate(yhat_clean):\n",
    "        \n",
    "        if np.argmax(v) == y[i]:\n",
    "            y_correct.append(True)\n",
    "            y_incorrect.append(False)\n",
    "            \n",
    "        else:\n",
    "            y_correct.append(False)\n",
    "            y_incorrect.append(True)\n",
    "\n",
    "    return y, yhat, y_correct, y_incorrect"
   ]
  },
  {
   "cell_type": "code",
   "execution_count": 7,
   "metadata": {},
   "outputs": [],
   "source": [
    "def plot_incorrect(generator, yhat, y_incorrect, indx):\n",
    "    generator.reset()\n",
    "    files = np.asarray(generator.filepaths)\n",
    "    yhat[incorrect][indx]"
   ]
  },
  {
   "cell_type": "code",
   "execution_count": 12,
   "metadata": {},
   "outputs": [
    {
     "name": "stdout",
     "output_type": "stream",
     "text": [
      "Found 3385 images belonging to 2 classes.\n",
      "Found 846 images belonging to 2 classes.\n",
      "Found 1058 images belonging to 2 classes.\n"
     ]
    }
   ],
   "source": [
    "batch_size = 16\n",
    "img_rows, img_cols = 150, 150\n",
    "\n",
    "train_generator, test_generator, val_generator = create_data_generators(directory_path='../data/train_test_split/', \n",
    "                                                                    input_shape=(img_rows,img_cols), \n",
    "                                                                    batch_size=batch_size)\n",
    "\n",
    "model = load_model('../models/3_epoch_model_150_87.h5')\n",
    "\n",
    "y, yhat, y_correct, y_incorrect = calculate_y_correct(model, val_generator)"
   ]
  },
  {
   "cell_type": "code",
   "execution_count": null,
   "metadata": {},
   "outputs": [],
   "source": []
  }
 ],
 "metadata": {
  "kernelspec": {
   "display_name": "Python 3",
   "language": "python",
   "name": "python3"
  },
  "language_info": {
   "codemirror_mode": {
    "name": "ipython",
    "version": 3
   },
   "file_extension": ".py",
   "mimetype": "text/x-python",
   "name": "python",
   "nbconvert_exporter": "python",
   "pygments_lexer": "ipython3",
   "version": "3.5.2"
  }
 },
 "nbformat": 4,
 "nbformat_minor": 2
}
